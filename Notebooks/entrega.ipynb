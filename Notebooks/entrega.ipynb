{
 "cells": [
  {
   "cell_type": "markdown",
   "metadata": {},
   "source": [
    "## **Python 2025 - Actividad 2**\n",
    "\n",
    "### **Objetivos**\n",
    "<ul style=\"font-size:15px;\">\n",
    "    <li>Resolver problemas más complejos utilizando estructuras de datos adecuadas.</li>\n",
    "    <li>Aplicar correctamente el uso de Jupyter Notebook.</li>\n",
    "    <li>Desarrollar soluciones considerando dependencias y buenas prácticas.</li>\n",
    "</ul>\n",
    "\n",
    "### **Ejercicios**"
   ]
  },
  {
   "cell_type": "markdown",
   "metadata": {},
   "source": [
    "<b style=\"font-size:15px;\">Importante ejecutarlo para que src sea reconocido como la raiz del paquete en las siguientes actividades</b>"
   ]
  },
  {
   "cell_type": "code",
   "execution_count": 4,
   "metadata": {},
   "outputs": [],
   "source": [
    "# que entrega.ipynb ajuste la ruta y  reconozca src para usar el paquete\n",
    "import sys\n",
    "import os\n",
    "\n",
    "sys.path.append(os.path.abspath(\"..\")) "
   ]
  },
  {
   "cell_type": "code",
   "execution_count": 3,
   "metadata": {},
   "outputs": [
    {
     "data": {
      "text/plain": [
       "<module 'src.funciones' from 'c:\\\\Users\\\\galle\\\\OneDrive\\\\Escritorio\\\\Python-Estudio\\\\practica_2\\\\src\\\\funciones.py'>"
      ]
     },
     "execution_count": 3,
     "metadata": {},
     "output_type": "execute_result"
    }
   ],
   "source": [
    "# actualizar modulo\n",
    "import importlib\n",
    "import src.funciones  # importás el módulo\n",
    "importlib.reload(src.funciones)  # lo recargás"
   ]
  },
  {
   "cell_type": "markdown",
   "metadata": {},
   "source": [
    "### **1. Análisis del Zen de Python**\n",
    "\n",
    "<p style=\"font-size:15px;\">Copie el texto del Zen de Python en una variable e imprima todas las líneas cuya segunda palabra comience con una vocal (A, E, I, O, U, a, e, i, o, u).</p>\n",
    "\n",
    "<p style=\"font-size:15px;\">El Zen de Python es una colección de principios que guían la filosofía de diseño de Python,escrita en forma de aforismos. Resalta la simplicidad, legibilidad y claridad en el código.</p>\n",
    "\n",
    "<p style=\"font-size:15px;\">Para verlo en Python, ejecute en la consola <b>import this</b> </p> "
   ]
  },
  {
   "cell_type": "code",
   "execution_count": 20,
   "metadata": {},
   "outputs": [
    {
     "name": "stdout",
     "output_type": "stream",
     "text": [
      "The Zen of Python, by Tim Peters\n",
      "\n",
      "Beautiful is better than ugly.\n",
      "Explicit is better than implicit.\n",
      "Simple is better than complex.\n",
      "Complex is better than complicated.\n",
      "Flat is better than nested.\n",
      "Sparse is better than dense.\n",
      "Readability counts.\n",
      "Special cases aren't special enough to break the rules.\n",
      "Although practicality beats purity.\n",
      "Errors should never pass silently.\n",
      "Unless explicitly silenced.\n",
      "In the face of ambiguity, refuse the temptation to guess.\n",
      "There should be one-- and preferably only one --obvious way to do it.\n",
      "Although that way may not be obvious at first unless you're Dutch.\n",
      "Now is better than never.\n",
      "Although never is often better than *right* now.\n",
      "If the implementation is hard to explain, it's a bad idea.\n",
      "If the implementation is easy to explain, it may be a good idea.\n",
      "Namespaces are one honking great idea -- let's do more of those!\n"
     ]
    }
   ],
   "source": [
    "import this"
   ]
  },
  {
   "cell_type": "markdown",
   "metadata": {},
   "source": [
    "<p style=\"font-size:15px;\">y colocaremos su contenido en una variable string</p>"
   ]
  },
  {
   "cell_type": "code",
   "execution_count": 21,
   "metadata": {},
   "outputs": [],
   "source": [
    "#string con el zen de python\n",
    "\n",
    "zen_text = \"\"\"The Zen of Python, by Tim Peters\n",
    "\n",
    "Beautiful is better than ugly.\n",
    "Explicit is better than implicit.\n",
    "Simple is better than complex.\n",
    "Complex is better than complicated.\n",
    "Flat is better than nested.\n",
    "Sparse is better than dense.\n",
    "Readability counts.\n",
    "Special cases aren't special enough to break the rules.\n",
    "Although practicality beats purity.\n",
    "Errors should never pass silently.\n",
    "Unless explicitly silenced.\n",
    "In the face of ambiguity, refuse the temptation to guess.\n",
    "There should be one-- and preferably only one --obvious way to do it.\n",
    "Although that way may not be obvious at first unless you're Dutch.\n",
    "Now is better than never.\n",
    "Although never is often better than *right* now.\n",
    "If the implementation is hard to explain, it's a bad idea.\n",
    "If the implementation is easy to explain, it may be a good idea.\n",
    "Namespaces are one honking great idea -- let's do more of those!\n",
    "\"\"\""
   ]
  },
  {
   "cell_type": "markdown",
   "metadata": {},
   "source": [
    "\n",
    "<p style=\"font-size:15px;\">Cumpliendo las condiciones requeridas<br>\n",
    "<b>Salida Esperada:</b></p>"
   ]
  },
  {
   "cell_type": "code",
   "execution_count": 22,
   "metadata": {},
   "outputs": [
    {
     "name": "stdout",
     "output_type": "stream",
     "text": [
      "Beautiful is better than ugly.\n",
      "Explicit is better than implicit.\n",
      "Simple is better than complex.\n",
      "Complex is better than complicated.\n",
      "Flat is better than nested.\n",
      "Sparse is better than dense.\n",
      "Unless explicitly silenced.\n",
      "Now is better than never.\n",
      "Namespaces are one honking great idea -- let's do more of those!\n"
     ]
    }
   ],
   "source": [
    "\n",
    "from src.funciones import segunda_palabra_vocal_inicial\n",
    "\n",
    "#Salida\n",
    "segunda_palabra_vocal_inicial(zen_text)\n"
   ]
  },
  {
   "cell_type": "markdown",
   "metadata": {},
   "source": [
    "### **2. Titulo más largo**\n",
    "\n",
    "<p style=\"font-size:15px;\">Dado un listado de titulos de streams en Twitch:</p>"
   ]
  },
  {
   "cell_type": "code",
   "execution_count": 2,
   "metadata": {},
   "outputs": [],
   "source": [
    "titles = [\n",
    "     \"Speedrun de Super Mario en tiempo récord\",\n",
    "    \"Charla sobre desarrollo de videojuegos\",\n",
    "    \"Jugando al nuevo FPS del momento con amigos\",\n",
    "    \"Música en vivo: improvisaciones al piano\"\n",
    "]"
   ]
  },
  {
   "cell_type": "markdown",
   "metadata": {},
   "source": [
    "<p style=\"font-size:15px;\">Encuentre el título con más palabras y muéstrelo en pantalla.</p>\n",
    "\n",
    "<p style=\"font-size:15px;\"><b>Salida esperada:</b></p>"
   ]
  },
  {
   "cell_type": "code",
   "execution_count": 3,
   "metadata": {},
   "outputs": [
    {
     "name": "stdout",
     "output_type": "stream",
     "text": [
      "El titulo más largo es: \" Jugando al nuevo FPS del momento con amigos \"\n"
     ]
    }
   ],
   "source": [
    "from src.funciones import lista_texto_mas_largo\n",
    "\n",
    "texto = lista_texto_mas_largo(titles)\n",
    "\n",
    "print('El titulo más largo es: \"',texto,'\"')"
   ]
  },
  {
   "cell_type": "markdown",
   "metadata": {},
   "source": [
    "### **3. Código de conducta**\n",
    "\n",
    "<p style=\"font-size:15px;\"> Dado un código de conducta para un servidor de Discord:</p>"
   ]
  },
  {
   "cell_type": "code",
   "execution_count": 3,
   "metadata": {},
   "outputs": [],
   "source": [
    "rules = \"\"\"Respeta a los demás. No se permiten insultos ni lenguaje ofensivo.\n",
    "Evita el spam. No publiques enlaces sospechosos o repetitivos.\n",
    "No compartas información personal.\n",
    "Usa los canales adecuados para cada tema.\n",
    "Sigue las instrucciones de los moderadores.\"\"\""
   ]
  },
  {
   "cell_type": "markdown",
   "metadata": {},
   "source": [
    "<p style=\"font-size:15px;\"> Solicite una palabra clave al usuario e imprima todas las reglas que la contengan.</p>"
   ]
  },
  {
   "cell_type": "code",
   "execution_count": 3,
   "metadata": {},
   "outputs": [
    {
     "ename": "ModuleNotFoundError",
     "evalue": "No module named 'src'",
     "output_type": "error",
     "traceback": [
      "\u001b[31m---------------------------------------------------------------------------\u001b[39m",
      "\u001b[31mModuleNotFoundError\u001b[39m                       Traceback (most recent call last)",
      "\u001b[36mCell\u001b[39m\u001b[36m \u001b[39m\u001b[32mIn[3]\u001b[39m\u001b[32m, line 1\u001b[39m\n\u001b[32m----> \u001b[39m\u001b[32m1\u001b[39m \u001b[38;5;28;01mfrom\u001b[39;00m\u001b[38;5;250m \u001b[39m\u001b[34;01msrc\u001b[39;00m\u001b[34;01m.\u001b[39;00m\u001b[34;01mfunciones\u001b[39;00m\u001b[38;5;250m \u001b[39m\u001b[38;5;28;01mimport\u001b[39;00m filtrar_lineas_por_palabra\n\u001b[32m      3\u001b[39m palabra_clave = \u001b[38;5;28minput\u001b[39m(\u001b[33m\"\u001b[39m\u001b[33mIngrese una palabra clave: \u001b[39m\u001b[33m\"\u001b[39m)\n\u001b[32m      5\u001b[39m filtrar_lineas_por_palabra(palabra_clave, rules)\n",
      "\u001b[31mModuleNotFoundError\u001b[39m: No module named 'src'"
     ]
    }
   ],
   "source": [
    "from src.funciones import filtrar_lineas_por_palabra\n",
    "\n",
    "palabra_clave = input(\"Ingrese una palabra clave: \")\n",
    "\n",
    "filtrar_lineas_por_palabra(palabra_clave, rules)"
   ]
  }
 ],
 "metadata": {
  "kernelspec": {
   "display_name": "Python 3",
   "language": "python",
   "name": "python3"
  },
  "language_info": {
   "codemirror_mode": {
    "name": "ipython",
    "version": 3
   },
   "file_extension": ".py",
   "mimetype": "text/x-python",
   "name": "python",
   "nbconvert_exporter": "python",
   "pygments_lexer": "ipython3",
   "version": "3.12.9"
  }
 },
 "nbformat": 4,
 "nbformat_minor": 2
}
