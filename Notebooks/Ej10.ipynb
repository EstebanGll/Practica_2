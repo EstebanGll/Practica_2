{
 "cells": [
  {
   "cell_type": "markdown",
   "metadata": {},
   "source": [
    "## **Python 2025 - Actividad 2**\n",
    "\n",
    "### **Objetivos**\n",
    "<ul style=\"font-size:15px;\">\n",
    "    <li>Resolver problemas más complejos utilizando estructuras de datos adecuadas.</li>\n",
    "    <li>Aplicar correctamente el uso de Jupyter Notebook.</li>\n",
    "    <li>Desarrollar soluciones considerando dependencias y buenas prácticas.</li>\n",
    "</ul>\n",
    "\n",
    "### **Ejercicios**"
   ]
  },
  {
   "cell_type": "markdown",
   "metadata": {},
   "source": [
    "<b style=\"font-size:15px;\">Importante ejecutarlo para que src sea reconocido como la raiz del paquete en las siguientes actividades</b>"
   ]
  },
  {
   "cell_type": "code",
   "execution_count": 39,
   "metadata": {},
   "outputs": [],
   "source": [
    "# que entrega.ipynb ajuste la ruta y  reconozca src para usar el paquete\n",
    "import sys\n",
    "import os\n",
    "\n",
    "sys.path.append(os.path.abspath(\"..\")) "
   ]
  },
  {
   "cell_type": "code",
   "execution_count": 54,
   "metadata": {},
   "outputs": [
    {
     "data": {
      "text/plain": [
       "<module 'src.funciones' from 'c:\\\\Users\\\\galle\\\\OneDrive\\\\Escritorio\\\\Python-Estudio\\\\practica_2\\\\src\\\\funciones.py'>"
      ]
     },
     "execution_count": 54,
     "metadata": {},
     "output_type": "execute_result"
    }
   ],
   "source": [
    "# actualizar modulo\n",
    "import importlib\n",
    "import src.funciones  # importás el módulo\n",
    "importlib.reload(src.funciones)  # lo recargás"
   ]
  },
  {
   "cell_type": "markdown",
   "metadata": {},
   "source": [
    "### **1. Análisis del Zen de Python**\n",
    "\n",
    "<p style=\"font-size:15px;\">Copie el texto del Zen de Python en una variable e imprima todas las líneas cuya segunda palabra comience con una vocal (A, E, I, O, U, a, e, i, o, u).</p>\n",
    "\n",
    "<p style=\"font-size:15px;\">El Zen de Python es una colección de principios que guían la filosofía de diseño de Python,escrita en forma de aforismos. Resalta la simplicidad, legibilidad y claridad en el código.</p>\n",
    "\n",
    "<p style=\"font-size:15px;\">Para verlo en Python, ejecute en la consola <b>import this</b> </p> "
   ]
  },
  {
   "cell_type": "code",
   "execution_count": 18,
   "metadata": {},
   "outputs": [
    {
     "name": "stdout",
     "output_type": "stream",
     "text": [
      "The Zen of Python, by Tim Peters\n",
      "\n",
      "Beautiful is better than ugly.\n",
      "Explicit is better than implicit.\n",
      "Simple is better than complex.\n",
      "Complex is better than complicated.\n",
      "Flat is better than nested.\n",
      "Sparse is better than dense.\n",
      "Readability counts.\n",
      "Special cases aren't special enough to break the rules.\n",
      "Although practicality beats purity.\n",
      "Errors should never pass silently.\n",
      "Unless explicitly silenced.\n",
      "In the face of ambiguity, refuse the temptation to guess.\n",
      "There should be one-- and preferably only one --obvious way to do it.\n",
      "Although that way may not be obvious at first unless you're Dutch.\n",
      "Now is better than never.\n",
      "Although never is often better than *right* now.\n",
      "If the implementation is hard to explain, it's a bad idea.\n",
      "If the implementation is easy to explain, it may be a good idea.\n",
      "Namespaces are one honking great idea -- let's do more of those!\n"
     ]
    }
   ],
   "source": [
    "import this"
   ]
  },
  {
   "cell_type": "markdown",
   "metadata": {},
   "source": [
    "<p style=\"font-size:15px;\">y colocaremos su contenido en una variable string</p>"
   ]
  },
  {
   "cell_type": "code",
   "execution_count": 19,
   "metadata": {},
   "outputs": [],
   "source": [
    "#string con el zen de python\n",
    "\n",
    "zen_text = \"\"\"The Zen of Python, by Tim Peters\n",
    "\n",
    "Beautiful is better than ugly.\n",
    "Explicit is better than implicit.\n",
    "Simple is better than complex.\n",
    "Complex is better than complicated.\n",
    "Flat is better than nested.\n",
    "Sparse is better than dense.\n",
    "Readability counts.\n",
    "Special cases aren't special enough to break the rules.\n",
    "Although practicality beats purity.\n",
    "Errors should never pass silently.\n",
    "Unless explicitly silenced.\n",
    "In the face of ambiguity, refuse the temptation to guess.\n",
    "There should be one-- and preferably only one --obvious way to do it.\n",
    "Although that way may not be obvious at first unless you're Dutch.\n",
    "Now is better than never.\n",
    "Although never is often better than *right* now.\n",
    "If the implementation is hard to explain, it's a bad idea.\n",
    "If the implementation is easy to explain, it may be a good idea.\n",
    "Namespaces are one honking great idea -- let's do more of those!\n",
    "\"\"\""
   ]
  },
  {
   "cell_type": "markdown",
   "metadata": {},
   "source": [
    "\n",
    "<p style=\"font-size:15px;\">Cumpliendo las condiciones requeridas<br>\n",
    "<b>Salida Esperada:</b></p>"
   ]
  },
  {
   "cell_type": "code",
   "execution_count": 20,
   "metadata": {},
   "outputs": [
    {
     "name": "stdout",
     "output_type": "stream",
     "text": [
      "Beautiful is better than ugly.\n",
      "Explicit is better than implicit.\n",
      "Simple is better than complex.\n",
      "Complex is better than complicated.\n",
      "Flat is better than nested.\n",
      "Sparse is better than dense.\n",
      "Unless explicitly silenced.\n",
      "Now is better than never.\n",
      "Namespaces are one honking great idea -- let's do more of those!\n"
     ]
    }
   ],
   "source": [
    "\n",
    "from src.funciones import segunda_palabra_vocal_inicial\n",
    "\n",
    "#Salida\n",
    "segunda_palabra_vocal_inicial(zen_text)\n"
   ]
  },
  {
   "cell_type": "markdown",
   "metadata": {},
   "source": [
    "### **2. Titulo más largo**\n",
    "\n",
    "<p style=\"font-size:15px;\">Dado un listado de titulos de streams en Twitch:</p>"
   ]
  },
  {
   "cell_type": "code",
   "execution_count": 21,
   "metadata": {},
   "outputs": [],
   "source": [
    "titles = [\n",
    "     \"Speedrun de Super Mario en tiempo récord\",\n",
    "    \"Charla sobre desarrollo de videojuegos\",\n",
    "    \"Jugando al nuevo FPS del momento con amigos\",\n",
    "    \"Música en vivo: improvisaciones al piano\"\n",
    "]"
   ]
  },
  {
   "cell_type": "markdown",
   "metadata": {},
   "source": [
    "<p style=\"font-size:15px;\">Encuentre el título con más palabras y muéstrelo en pantalla.</p>\n",
    "\n",
    "<p style=\"font-size:15px;\"><b>Salida esperada:</b></p>"
   ]
  },
  {
   "cell_type": "code",
   "execution_count": 22,
   "metadata": {},
   "outputs": [
    {
     "name": "stdout",
     "output_type": "stream",
     "text": [
      "El titulo más largo es: \" Jugando al nuevo FPS del momento con amigos \"\n"
     ]
    }
   ],
   "source": [
    "from src.funciones import lista_texto_mas_largo\n",
    "\n",
    "texto = lista_texto_mas_largo(titles)\n",
    "\n",
    "print('El titulo más largo es: \"',texto,'\"')"
   ]
  },
  {
   "cell_type": "markdown",
   "metadata": {},
   "source": [
    "### **3. Código de conducta**\n",
    "\n",
    "<p style=\"font-size:15px;\"> Dado un código de conducta para un servidor de Discord:</p>"
   ]
  },
  {
   "cell_type": "code",
   "execution_count": 23,
   "metadata": {},
   "outputs": [],
   "source": [
    "rules = \"\"\"Respeta a los demás. No se permiten insultos ni lenguaje ofensivo.\n",
    "Evita el spam. No publiques enlaces sospechosos o repetitivos.\n",
    "No compartas información personal.\n",
    "Usa los canales adecuados para cada tema.\n",
    "Sigue las instrucciones de los moderadores.\"\"\""
   ]
  },
  {
   "cell_type": "markdown",
   "metadata": {},
   "source": [
    "<p style=\"font-size:15px;\"> Solicite una palabra clave al usuario e imprima todas las reglas que la contengan.</p>"
   ]
  },
  {
   "cell_type": "code",
   "execution_count": 24,
   "metadata": {},
   "outputs": [
    {
     "name": "stdout",
     "output_type": "stream",
     "text": [
      "Ingrese una palabra clave: \n"
     ]
    }
   ],
   "source": [
    "from src.funciones import filtrar_lineas_por_palabra\n",
    "\n",
    "palabra_clave = input(\"Ingrese una palabra clave: \")\n",
    "print(\"Ingrese una palabra clave:\", palabra_clave)\n",
    "filtrar_lineas_por_palabra(palabra_clave, rules)"
   ]
  },
  {
   "cell_type": "markdown",
   "metadata": {},
   "source": [
    "### **4. Validación de nombre de usuario**\n",
    "\n",
    "<p style=\"font-size:15px;\"> Valide un nombre de usuario con los siguientes criterios:</p>\n",
    "\n",
    "<ul style=\"font-size:15px;\">\n",
    "    <li>Al menos 5 caracteres.</li>\n",
    "    <li>Contiene al menos un número.</li>\n",
    "    <li>Contiene al menos una letra mayúscula.</li>\n",
    "    <li>Solo puede contener letras y números.</li>\n",
    "</ul>"
   ]
  },
  {
   "cell_type": "code",
   "execution_count": 26,
   "metadata": {},
   "outputs": [
    {
     "name": "stdout",
     "output_type": "stream",
     "text": [
      "Ingrese un nombre de usuario:  Gamer123\n",
      "El nombre de usuario es válido.\n",
      "Ingrese un nombre de usuario:  gamer\n",
      "EL nombre de usuario no cumple con los requisitos\n"
     ]
    }
   ],
   "source": [
    "from src.funciones import validacion_usuario\n",
    "\n",
    "texto_solicitud = \"Ingrese un nombre de usuario: \"\n",
    "usuario1 = input(texto_solicitud)\n",
    "print(texto_solicitud,usuario1)\n",
    "print(validacion_usuario(usuario1))\n",
    "\n",
    "usuario2 = input(texto_solicitud)\n",
    "print(texto_solicitud,usuario2)\n",
    "print(validacion_usuario(usuario2))"
   ]
  },
  {
   "cell_type": "markdown",
   "metadata": {},
   "source": [
    "### **5.  Clasificación de velocidad de reacción en un juego**\n",
    "\n",
    "<p style=\"font-size:15px;\">  Dado el tiempo de reacción de un jugador en milisegundos clasifíquelo en las siguientes categorías:</p>\n",
    "\n",
    "<ul style=\"font-size:15px;\">\n",
    "    <li>Menos de 200 ms: Rápido</li>\n",
    "    <li>Entre 200 y 500 ms: Normal</li>\n",
    "    <li>Más de 500 ms: Lento</li>\n",
    "</ul>\n",
    "\n",
    "<b style=\"font-size:15px;\">Salida: </b>"
   ]
  },
  {
   "cell_type": "code",
   "execution_count": 22,
   "metadata": {},
   "outputs": [
    {
     "name": "stdout",
     "output_type": "stream",
     "text": [
      "Ingrese su tiempo de reaccion en ms:  320\n",
      "Categoria: Normal\n"
     ]
    }
   ],
   "source": [
    "from src.funciones import categoria_tiempo_reaccion\n",
    "\n",
    "tiempo = int(input(\"Ingrese su tiempo de reaccion en ms: \"))\n",
    "print(\"Ingrese su tiempo de reaccion en ms: \",tiempo)\n",
    "print(categoria_tiempo_reaccion(tiempo))"
   ]
  },
  {
   "cell_type": "markdown",
   "metadata": {},
   "source": [
    "### **6.   Análisis de descripciones de una plataforma de stream**\n",
    "\n",
    "<p style=\"font-size:15px;\"> Dadas varias descripciones de streams en Twitch, cuente cuántas menciones hay de \"entretenimiento\", \"música\" y \"charla\".</p>\n"
   ]
  },
  {
   "cell_type": "code",
   "execution_count": 18,
   "metadata": {},
   "outputs": [],
   "source": [
    "descriptions = [\n",
    "    \"Streaming de música en vivo con covers y composiciones\",\n",
    "    \"Charla interactiva con la audiencia sobre series y películas\",\n",
    "    \"Jugamos a juegos retro y charlamos sobre su historia\",\n",
    "    \"Exploramos la mejor música de los 80s y 90s\",\n",
    "    \"Programa de entretenimiento con noticias y curiosidades del mundo gamer\",\n",
    "    \"Sesión de charla con invitados especiales del mundo del streaming\",\n",
    "    \"Música en directo con improvisaciones y peticiones del chat\",\n",
    "    \"Un espacio para charlar relajada sobre tecnología y cultura digital\",\n",
    "    \"Exploramos el impacto de la música en los videojuegos clásicos\"\n",
    "]"
   ]
  },
  {
   "cell_type": "markdown",
   "metadata": {},
   "source": [
    "<b style=\"font-size:15px;\"> Salida: </b>"
   ]
  },
  {
   "cell_type": "code",
   "execution_count": null,
   "metadata": {},
   "outputs": [
    {
     "name": "stdout",
     "output_type": "stream",
     "text": [
      "Menciones de música : 4\n",
      "Menciones de charla : 2\n",
      "Menciones de entretenimiento : 1\n"
     ]
    }
   ],
   "source": [
    "from src.funciones import mencion_palabra_en_lineas\n",
    "x, y, z = \"música\", \"charla\", \"entretenimiento\"\n",
    "print(\"Menciones de\",x,\":\",mencion_palabra_en_lineas(x, descriptions))\n",
    "print(\"Menciones de\",y,\":\",mencion_palabra_en_lineas(y, descriptions))\n",
    "print(\"Menciones de\",z,\":\",mencion_palabra_en_lineas(z, descriptions))\n"
   ]
  },
  {
   "cell_type": "markdown",
   "metadata": {},
   "source": [
    "### **7. Generador de códigos de descuento**\n",
    "\n",
    "<p style=\"font-size:15px;\">Genere un código de descuento aleatorio para un usuario en base a su nombre, la fecha actual y el resto deben ser números o letras aleatorias. El código debe tener una longitud de 30 caracteres, todas las letras deben ser mayúsculas.</p>\n",
    "<p style=\"font-size:15px;\">El usuario debe ingresarse por teclado y debe validar que no exceda los 15 caracteres</p>"
   ]
  },
  {
   "cell_type": "code",
   "execution_count": 29,
   "metadata": {},
   "outputs": [
    {
     "name": "stdout",
     "output_type": "stream",
     "text": [
      "Usuario: StreamerPro\n",
      "Fecha: 2025-04-04\n",
      "Codigo: \n",
      "STREAMERPRO-20250404-ZZLGXUHTB\n"
     ]
    }
   ],
   "source": [
    "from datetime import date\n",
    "from src.funciones import generador_codigo\n",
    "\n",
    "usuario_ingresado = input(\"Ingrese su usuario\")\n",
    "\n",
    "fecha_actual = date.today()\n",
    "fecha_formateada = fecha_actual.strftime(\"%Y-%m-%d\")\n",
    "\n",
    "if len(usuario_ingresado) >= 15:\n",
    "    usuario_ingresado = input(\"Usuario invalido, Ingrese de nuevo su usuario\")\n",
    "    \n",
    "print(\"Usuario:\",usuario_ingresado)\n",
    "print(\"Fecha:\", fecha_formateada)\n",
    "\n",
    "print(\"Codigo: \")\n",
    "\n",
    "print(generador_codigo(usuario_ingresado, fecha_actual))\n"
   ]
  },
  {
   "cell_type": "markdown",
   "metadata": {},
   "source": [
    "### **8.  Identificación de anagramas**\n",
    "\n",
    "<p style=\"font-size:15px;\">Determine si dos palabras ingresadas son anagramas (contienen las mismas letras en diferente orden).</p>"
   ]
  },
  {
   "cell_type": "code",
   "execution_count": null,
   "metadata": {},
   "outputs": [
    {
     "name": "stdout",
     "output_type": "stream",
     "text": [
      "Ejemplos: \n",
      "Ingrese la primera palabra: roma\n",
      "Ingrese la segunda palabra: amor\n",
      "Son anagramas.\n",
      "Ingrese la primera palabra: python\n",
      "Ingrese la segunda palabra: java\n",
      "No son anagramas.\n"
     ]
    }
   ],
   "source": [
    "from src.funciones import verificar_anagrama\n",
    "print(\"Ejemplos: \")\n",
    "print()\n",
    "\n",
    "for _ in range(2):\n",
    "    text1 = input(\"Ingrese la primera palabra: \")\n",
    "    text2 = input(\"Ingrese la segunda palabra: \")\n",
    "    print(\"Ingrese la primera palabra:\",text1)\n",
    "    print(\"Ingrese la segunda palabra:\",text2)\n",
    "    print(verificar_anagrama(text1, text2))\n"
   ]
  },
  {
   "cell_type": "markdown",
   "metadata": {},
   "source": [
    "### **9. Limpieza de Datos para un Sistema de Clientes**\n",
    "\n",
    "<p style=\"font-size:15px;\">Eres un analista de datos en una empresa que ha recibido una lista de nombres de clientes de distintas fuentes.<br><br>\n",
    "Sin embargo, estos datos contienen errores, espacios en blanco nombres repetidos y valores nulos.<br><br>\n",
    "Tu tarea es desarrollar un sistema que limpie y estandarice estos datos para poder usarlos en el sistema de facturación.<br><br>\n",
    "<b style=\"font-size:15px;\">Datos de entrada</b><br><br>\n",
    "La empresa ha recopilado nombres de clientes desde diferentes formularios, bases de datos y registros manuales.<br><br>\n",
    "La lista de datos inicial es la siguiente:</p>\n",
    "\n"
   ]
  },
  {
   "cell_type": "code",
   "execution_count": 47,
   "metadata": {},
   "outputs": [],
   "source": [
    "clients = [\n",
    "    \"  Ana López \", \"Pedro Gómez\", \"maria martínez\", \"Pedro Gómez \", \"\",\n",
    "    \" Luis Rodríguez \", None, \"ana lópez\", \"JUAN PÉREZ\", \"MARTA SUÁREZ\",\n",
    "    \"luis rodríguez\", \"maría martínez \", \" claudia torres\", \"CLAUDIA TORRES\",\n",
    "    \"  \", \"pedro gómez\", \"Juan Pérez\", None, \"Ricardo Fernández\", \"LAURA RAMOS\",\n",
    "    \"carlos mendes\", \"RICARDO FERNÁNDEZ  \", \" Laura ramos\", \"CARLOS MENDES\",\n",
    "    \"alejandro gonzález\", \" ALEJANDRO GONZÁLEZ  \", \"Patricia Vega\",\n",
    "    \"patricia VEGA\", \"Andrés Ocampo\", \"  andrés ocampo\", \"Monica Herrera\",\n",
    "    \"MONICA HERRERA  \", \"gabriela ruíz\", \"Gabriela Ruíz\", \"sandra morales\",\n",
    "    \"SANDRA MORALES\", \"miguel ángel\", \"Miguel Ángel \", \" Damián Castillo\",\n",
    "    \"Damián Castillo  \", None, \"\", \"  \"\n",
    " ]"
   ]
  },
  {
   "cell_type": "markdown",
   "metadata": {},
   "source": [
    "\n",
    "<p style=\"font-size:15px;\">La actividad es desarrollar un sistema que permita realizar las siguientes operaciones en los datos:</p>\n",
    "<ul style=\"font-size:15px;\">\n",
    "    <li><b>Eliminar espacios extra</b> en los nombres.</li>\n",
    "    <li><b>Convertir todos los nombres a formato de título</b> (primera letra en mayúscula y el resto en minúscula).</li>\n",
    "    <li><b>Eliminar registros duplicados</b> para evitar clientes repetidos.</li>\n",
    "    <li><b>Eliminar valores vacíos o nulos,</b> ya que no aportan información válida.</li>\n",
    "    <li><b>Mostrar la lista limpia de clientes listos para usar en el sistema de facturación.</b></li>\n",
    "</ul> \n",
    "<b>Salida: </b>"
   ]
  },
  {
   "cell_type": "code",
   "execution_count": 55,
   "metadata": {},
   "outputs": [
    {
     "name": "stdout",
     "output_type": "stream",
     "text": [
      "Lista limpia de clientes al realizar todas las operaciones:\n",
      "['Alejandro González', 'Ana López', 'Andrés Ocampo', 'Carlos Mendes', 'Claudia Torres', 'Damián Castillo', 'Gabriela Ruíz', 'Juan Pérez', 'Laura Ramos', 'Luis Rodríguez', 'Maria Martínez', 'Marta Suárez', 'María Martínez', 'Miguel Ángel', 'Monica Herrera', 'Patricia Vega', 'Pedro Gómez', 'Ricardo Fernández', 'Sandra Morales']\n"
     ]
    }
   ],
   "source": [
    "from src.funciones import limpieza_lista\n",
    "print(\"Lista limpia de clientes al realizar todas las operaciones:\")\n",
    "\n",
    "lista_corregida = limpieza_lista(clients)\n",
    "lista_corregida.sort()\n",
    "\n",
    "print(lista_corregida)\n"
   ]
  },
  {
   "cell_type": "markdown",
   "metadata": {},
   "source": [
    "### **10.    Simulación de partidas y ranking en shooter online**\n",
    "\n",
    "<p style=\"font-size:15px;\">Simule varias partidas de un juego de disparos y genere un ranking basado en el puntaje total de cada jugador. Se utilizará el siguiente sistema de puntuación:</p>\n",
    "\n",
    "<b style=\"font-size:15px;\">Entrada:</b>\n",
    "\n",
    "<table border=\"1\">\n",
    "  <tr>\n",
    "    <td>Accion</td>\n",
    "    <td>Puntos</td>\n",
    "  </tr>\n",
    "  <tr>\n",
    "    <td>Kill</td>\n",
    "    <td>3</td>\n",
    "  </tr>\n",
    "  <tr>\n",
    "    <td>Asistencia</td>\n",
    "    <td>1</td>\n",
    "  </tr>\n",
    "</table>\n",
    "<br>\n",
    "<table border=\"1\">\n",
    "  <tr>\n",
    "    <td>Accion</td>\n",
    "    <td>Puntos</td>\n",
    "  </tr>\n",
    "  <tr>\n",
    "    <td>Muerte</td>\n",
    "    <td>-1</td>\n",
    "  </tr>\n",
    "</table>\n",
    "\n",
    "<p style=\"font-size:15px;\">Dado el siguiente conjunto de rondas</p>"
   ]
  },
  {
   "cell_type": "code",
   "execution_count": null,
   "metadata": {},
   "outputs": [],
   "source": [
    "rounds = [\n",
    "{\n",
    "    'Shadow': {'kills': 2, 'assists': 1, 'deaths': True},\n",
    "    'Blaze': {'kills': 1, 'assists': 0, 'deaths': False},\n",
    "    'Viper': {'kills': 1, 'assists': 2, 'deaths': True},\n",
    "    'Frost': {'kills': 0, 'assists': 1, 'deaths': False},\n",
    "    'Reaper': {'kills': 1, 'assists': 1, 'deaths': False}\n",
    "},\n",
    "{\n",
    "    'Shadow': {'kills': 0, 'assists': 2, 'deaths': False},\n",
    "    'Blaze': {'kills': 2, 'assists': 0, 'deaths': True},\n",
    "    'Viper': {'kills': 1, 'assists': 1, 'deaths': False},\n",
    "    'Frost': {'kills': 2, 'assists': 1, 'deaths': True},\n",
    "    'Reaper': {'kills': 0, 'assists': 1, 'deaths': False}\n",
    "},\n",
    "{\n",
    "    'Shadow': {'kills': 1, 'assists': 0, 'deaths': False},\n",
    "    'Blaze': {'kills': 2, 'assists': 2, 'deaths': True},\n",
    "    'Viper': {'kills': 1, 'assists': 1, 'deaths': True},\n",
    "    'Frost': {'kills': 0, 'assists': 1, 'deaths': False},\n",
    "    'Reaper': {'kills': 1, 'assists': 1, 'deaths': False}\n",
    "},\n",
    "{\n",
    "    'Shadow': {'kills': 2, 'assists': 1, 'deaths': False},\n",
    "    'Blaze': {'kills': 1, 'assists': 0, 'deaths': True},\n",
    "    'Viper': {'kills': 0, 'assists': 2, 'deaths': False},\n",
    "    'Frost': {'kills': 1, 'assists': 1, 'deaths': True},\n",
    "    'Reaper': {'kills': 1, 'assists': 1, 'deaths': False}\n",
    "},\n",
    "{\n",
    "    'Shadow': {'kills': 1, 'assists': 2, 'deaths': True},\n",
    "    'Blaze': {'kills': 0, 'assists': 1, 'deaths': False},\n",
    "    'Viper': {'kills': 2, 'assists': 0, 'deaths': True},\n",
    "    'Frost': {'kills': 1, 'assists': 1, 'deaths': False},\n",
    "    'Reaper': {'kills': 1, 'assists': 1, 'deaths': True}\n",
    "}\n",
    "]"
   ]
  },
  {
   "cell_type": "markdown",
   "metadata": {},
   "source": []
  }
 ],
 "metadata": {
  "kernelspec": {
   "display_name": "Python 3",
   "language": "python",
   "name": "python3"
  },
  "language_info": {
   "codemirror_mode": {
    "name": "ipython",
    "version": 3
   },
   "file_extension": ".py",
   "mimetype": "text/x-python",
   "name": "python",
   "nbconvert_exporter": "python",
   "pygments_lexer": "ipython3",
   "version": "3.12.9"
  }
 },
 "nbformat": 4,
 "nbformat_minor": 2
}
